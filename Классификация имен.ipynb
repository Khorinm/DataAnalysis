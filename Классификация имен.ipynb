{
 "cells": [
  {
   "cell_type": "markdown",
   "metadata": {},
   "source": [
    "## Классификация имён через n-граммы и LSTM.\n",
    "### Выполнил: Хорин М. А.<br>"
   ]
  },
  {
   "cell_type": "code",
   "execution_count": 1,
   "metadata": {},
   "outputs": [
    {
     "name": "stderr",
     "output_type": "stream",
     "text": [
      "Using TensorFlow backend.\n"
     ]
    }
   ],
   "source": [
    "from string import ascii_lowercase, ascii_uppercase\n",
    "from random import shuffle \n",
    "import numpy as np\n",
    "from nltk.util import ngrams\n",
    "from nltk.classify import NaiveBayesClassifier\n",
    "from keras.models import Sequential\n",
    "from keras.layers.core import Dense, Activation, Dropout\n",
    "from keras.layers.recurrent import LSTM\n",
    "from sklearn.metrics import f1_score, accuracy_score"
   ]
  },
  {
   "cell_type": "markdown",
   "metadata": {},
   "source": [
    "<b>1. </b>Произведём предварительную обработку данных. Сначала удалим те имена, которые являются и мужскими, и женскими одновременно. "
   ]
  },
  {
   "cell_type": "code",
   "execution_count": 2,
   "metadata": {
    "scrolled": false
   },
   "outputs": [
    {
     "name": "stdout",
     "output_type": "stream",
     "text": [
      "Всего мужских имён: 2943\n",
      "Всего женских имён: 5001\n"
     ]
    }
   ],
   "source": [
    "# считываем данные\n",
    "male_names = open('male.txt').read().split('\\n')\n",
    "female_names = open('female.txt').read().split('\\n')\n",
    "\n",
    "male_names = [mname for mname in male_names] # приводим ты имена к нижнему регистру\n",
    "female_names = [fname for fname in female_names]\n",
    "\n",
    "print('Всего мужских имён:', len(male_names))\n",
    "print('Всего женских имён:', len(female_names))\n",
    "\n",
    "def clear_ambiguous_names(male_names, female_names):\n",
    "    \"\"\"\n",
    "    метод производит очистку списков имён от неоднозначных имён\n",
    "    \"\"\"\n",
    "    for mname in male_names: # идём по списку мужских имён\n",
    "        if mname in female_names: # удаляем имя, если оно также содержится в списке женских имен\n",
    "            female_names.remove(mname)\n",
    "            male_names.remove(mname)\n",
    "            mname=mname.lower()\n",
    "    for fname in female_names: # идём по списку женских имён\n",
    "        if fname in male_names: # удаляем имя, если оно также содержнится в списке мужских имён\n",
    "            male_names.remove(fname)\n",
    "            female_names.remove(fname) \n",
    "    return male_names, female_names # возвращаем очищенные списки"
   ]
  },
  {
   "cell_type": "code",
   "execution_count": 3,
   "metadata": {},
   "outputs": [
    {
     "name": "stdout",
     "output_type": "stream",
     "text": [
      "Всего мужских имён: 2578\n",
      "Всего женских имён: 4636\n"
     ]
    }
   ],
   "source": [
    "male_names, female_names = clear_ambiguous_names(male_names, female_names)\n",
    "print('Всего мужских имён:', len(male_names))\n",
    "print('Всего женских имён:', len(female_names))"
   ]
  },
  {
   "cell_type": "markdown",
   "metadata": {},
   "source": [
    "Как можно заметить, среди всех имён встретились 365 неоднозначных, поэтому они были удалены.<br><br>Сделаем метку с полом к каждому имени, так как это понадобится для обучения модели. Также сделаем единый список имён, отсортированный по алфавиту, чтобы сформировать тестовое множество имён."
   ]
  },
  {
   "cell_type": "code",
   "execution_count": 4,
   "metadata": {},
   "outputs": [
    {
     "data": {
      "text/plain": [
       "[('Aamir', 'male'),\n",
       " ('Aaron', 'male'),\n",
       " ('Abagael', 'female'),\n",
       " ('Abagail', 'female'),\n",
       " ('Abbe', 'female'),\n",
       " ('Abbi', 'female'),\n",
       " ('Abbot', 'male'),\n",
       " ('Abbott', 'male'),\n",
       " ('Abdel', 'male'),\n",
       " ('Abdul', 'male')]"
      ]
     },
     "execution_count": 4,
     "metadata": {},
     "output_type": "execute_result"
    }
   ],
   "source": [
    "labeled_males = [(mname, 'male') for mname in male_names] # добавляем метки к мужским именам\n",
    "labeled_females = [(fname,'female') for fname in female_names] # добавляем метки к женским именам\n",
    "\n",
    "labeled_names = labeled_males + labeled_females # объединяем списки\n",
    "labeled_names.sort() # сортируем\n",
    "labeled_names[:10]"
   ]
  },
  {
   "cell_type": "markdown",
   "metadata": {},
   "source": [
    "Приступим к созданию тестового множества, в котором будет находиться 20% от имён на каждую букву алфавита. Сначала сделаем список список имён, начинающихся на каждую букву алфавита, чтобы упростить основную задачу."
   ]
  },
  {
   "cell_type": "code",
   "execution_count": 5,
   "metadata": {},
   "outputs": [
    {
     "data": {
      "text/plain": [
       "[('Aamir', 'male'),\n",
       " ('Aaron', 'male'),\n",
       " ('Abagael', 'female'),\n",
       " ('Abagail', 'female'),\n",
       " ('Abbe', 'female'),\n",
       " ('Abbi', 'female'),\n",
       " ('Abbot', 'male'),\n",
       " ('Abbott', 'male'),\n",
       " ('Abdel', 'male'),\n",
       " ('Abdul', 'male')]"
      ]
     },
     "execution_count": 5,
     "metadata": {},
     "output_type": "execute_result"
    }
   ],
   "source": [
    "sets = [] # инициируем основной список\n",
    "for letter in ascii_uppercase: # идём по алфавиту\n",
    "    letter_list = [] # создаем список, в который будут помещаться имена, начинающиеся с рассматриваемой буквы\n",
    "    for name in labeled_names: # идём по размеченному списку имён\n",
    "        if name[0].startswith(letter): # добавляем имя в список, если оно начинается с рассматриваемой буквы\n",
    "            letter_list.append(name) \n",
    "    sets.append(letter_list) # добавляем список имён в основной список\n",
    "    \n",
    "sets[0][:10] # список имён, начинающихся на A"
   ]
  },
  {
   "cell_type": "markdown",
   "metadata": {},
   "source": [
    "Теперь создадим тестовое множество, содержащее 20% от общего количества имён на каждую букву. "
   ]
  },
  {
   "cell_type": "code",
   "execution_count": 6,
   "metadata": {},
   "outputs": [],
   "source": [
    "test_data = [] # список данных для тестирования модели\n",
    "for letter_set in sets: # идём по спискам имён, начинающихся с определенной буквы\n",
    "    shuffle(letter_set) # перемешиваем имена в них, чтобы исключить попадание имён, относящихся только к одному полу\n",
    "    test_data += letter_set[:round(len(letter_set)*0.2)] # добавляем 20% имён в список\n",
    "    \n",
    "test_set = set(test_data) # создаеём тестовое множество"
   ]
  },
  {
   "cell_type": "code",
   "execution_count": 7,
   "metadata": {},
   "outputs": [],
   "source": [
    "train_data = labeled_names # убираем элементы тестовых данных из исходных данных и получаем тренировочные данные\n",
    "for element in test_data:\n",
    "    train_data.remove(element)"
   ]
  },
  {
   "cell_type": "code",
   "execution_count": 8,
   "metadata": {},
   "outputs": [
    {
     "name": "stdout",
     "output_type": "stream",
     "text": [
      "Количество тренировочных данных: 5774\n",
      "Количество данных для тестирования: 1440\n"
     ]
    }
   ],
   "source": [
    "print('Количество тренировочных данных:', len(train_data))\n",
    "print('Количество данных для тестирования:', len(test_data))"
   ]
  },
  {
   "cell_type": "markdown",
   "metadata": {},
   "source": [
    "<b>2. </b>Приступим к классификации имён с помощью наивного байесовского классификатора."
   ]
  },
  {
   "cell_type": "markdown",
   "metadata": {},
   "source": [
    "В качестве признаков необходимо использовать символьные н-граммы от имён, а сравнивать результаты классификации необходимо по F-мере и аккуратности. Создадим две функции: одна будет создавать признаки, используя символьные н-граммы, а вторая будет проводить обучение классификатора и расчёт метрик качества классификации."
   ]
  },
  {
   "cell_type": "code",
   "execution_count": 9,
   "metadata": {},
   "outputs": [],
   "source": [
    "def make_features(name, n):\n",
    "    \"\"\"\n",
    "    Функция создаёт признаки для классификатора, раскладывая имя на н-граммы \n",
    "    \"\"\"\n",
    "    return dict([(''.join(ngram), True) for ngram in list(ngrams(name, n))])\n",
    "\n",
    "def compute_metrics(test_data, train_data, n):\n",
    "    \"\"\"\n",
    "    Функция осуществляет формирование множества признаков для обучения классификатора, обучает классификатор, а также рассчитывает \n",
    "    метрики качества классификации в зависимости от того, какой из полов мы считаем положительным классом (+1), а какой отрицательным\n",
    "    (-1) \n",
    "    \"\"\"\n",
    "    train_featureset = [(make_features(name, n), gender) for (name, gender) in train_data] # создание тренировочного множества признаков\n",
    "    classifier = NaiveBayesClassifier.train(train_featureset) # обучение классификатора\n",
    "    \n",
    "    print('Classification metrics:')\n",
    "    genders = ['female', 'male'] # список полов (классов)   \n",
    "    for gend in genders: # выбираем по-очереди каждый из классов в качестве положительного и рассчитываем в зависимости от этого метрики качества классификации\n",
    "    \n",
    "    # ячейки таблицы сопряженности бинарного классификатора\n",
    "        tp = 0 # True positive classifications\n",
    "        tn = 0 # True negative classifications\n",
    "        fp = 0 # False positive classifications\n",
    "        fn = 0 # False negative classifications\n",
    "        \n",
    "        if gend=='female': # считаем метрики, считая, что женский пол является положительным классом\n",
    "            for (name, gender) in test_data: # идём по тестовым данным\n",
    "                guess = classifier.classify(make_features(name, n)) # делаем предсказание и изменяем значение в ячейке таблицы сопряженности      \n",
    "                if (guess=='female') & (gender=='female'):\n",
    "                    tp += 1\n",
    "                elif (guess=='female') & (gender=='male'):\n",
    "                    fp += 1\n",
    "                elif (guess=='male') & (gender=='female'):\n",
    "                    fn += 1\n",
    "                elif (guess=='male') & (gender=='male'):\n",
    "                    tn += 1\n",
    "            \n",
    "            # рассчитываем метрики    \n",
    "            precision_1 = tp/(tp+fp) # точность\n",
    "            recall_1 = tp/(tp+fn) # полноту\n",
    "            f_measure_1 = (2*precision_1*recall_1)/(precision_1+recall_1) # f-меру\n",
    "            print('\\tF-measure for %s classification - %f' % (gend, f_measure_1))\n",
    "                \n",
    "        elif gend=='male': # повторяем такие-же действия, считая мужской пол позитивным классом\n",
    "            for (name, gender) in test_data:\n",
    "                guess = classifier.classify(make_features(name, n))\n",
    "                if (guess=='male') & (gender=='male'):\n",
    "                    tp += 1\n",
    "                elif (guess=='male') & (gender=='female'):\n",
    "                    fp += 1\n",
    "                elif (guess=='female') & (gender=='male'):\n",
    "                    fn += 1\n",
    "                elif (guess=='female') & (gender=='female'):\n",
    "                    tn += 1\n",
    "            cls_accuracy = (tp+tn)/(tp+tn+fp+fn) # расчёт аккуратности\n",
    "            precision_2 = tp/(tp+fp)\n",
    "            recall_2 = tp/(tp+fn)\n",
    "            f_measure_2 = (2*precision_2*recall_2)/(precision_2+recall_2)\n",
    "            \n",
    "            # выводим значения метрик качества классификации\n",
    "            print('\\tF-measure for %s classification - %f' % (gend, f_measure_2))\n",
    "            print('\\tClassification accuracy - %f' % (cls_accuracy))\n",
    "    return classifier # возвращаем классификатор"
   ]
  },
  {
   "cell_type": "markdown",
   "metadata": {},
   "source": [
    "2-GRAMS"
   ]
  },
  {
   "cell_type": "code",
   "execution_count": 10,
   "metadata": {},
   "outputs": [
    {
     "name": "stdout",
     "output_type": "stream",
     "text": [
      "Classification metrics:\n",
      "\tF-measure for female classification - 0.837616\n",
      "\tF-measure for male classification - 0.661670\n",
      "\tClassification accuracy - 0.780556\n"
     ]
    }
   ],
   "source": [
    "clf_2gram = compute_metrics(test_data, train_data, 2)"
   ]
  },
  {
   "cell_type": "markdown",
   "metadata": {},
   "source": [
    "3-GRAMS"
   ]
  },
  {
   "cell_type": "code",
   "execution_count": 11,
   "metadata": {},
   "outputs": [
    {
     "name": "stdout",
     "output_type": "stream",
     "text": [
      "Classification metrics:\n",
      "\tF-measure for female classification - 0.873107\n",
      "\tF-measure for male classification - 0.748187\n",
      "\tClassification accuracy - 0.831250\n"
     ]
    }
   ],
   "source": [
    "clf_3gram = compute_metrics(test_data, train_data, 3)"
   ]
  },
  {
   "cell_type": "markdown",
   "metadata": {},
   "source": [
    "4-GRAMS"
   ]
  },
  {
   "cell_type": "code",
   "execution_count": 12,
   "metadata": {},
   "outputs": [
    {
     "name": "stdout",
     "output_type": "stream",
     "text": [
      "Classification metrics:\n",
      "\tF-measure for female classification - 0.864594\n",
      "\tF-measure for male classification - 0.695260\n",
      "\tClassification accuracy - 0.812500\n"
     ]
    }
   ],
   "source": [
    "clf_4gram = compute_metrics(test_data, train_data, 4)"
   ]
  },
  {
   "cell_type": "markdown",
   "metadata": {},
   "source": [
    "Как можно заметить выше, наибольшая аккуратность и F-мера при классификации достигаются, если в качестве признаков использовать символьные 3-граммы, составленные от имён. Предположительно, это связано с тем, что именно 3-граммы наиболее полно и однозначно (по сравнению с 2 и 4-граммами) позволяют идентифицировать пол по имени, так как в отличие от использования 2-грам, многие из которых как у мужских, так и у женских имён могут совпадать, а также в отличие от 4-грамм, которых у имён может быть либо немного, а то и вовсе отсутствовать (не все имена очень длинные), составление 3-грамм получается оптимальным по их количеству и информативности относительно пола. <br><br>\n",
    "Тем не менее, классификатор будет совершать ошибки, если имя не позволяет создать ни одной символьной n-граммы, а также, если отличие в мужском и женском имени незначительно (небольшая разница в написании или наличие опечаток), или же, если имя может относиться к обоим полам. Также классификация будет неверной, если пытаться классифицировать имена, написанные на другом алфавите."
   ]
  },
  {
   "cell_type": "markdown",
   "metadata": {},
   "source": [
    "<b>3. </b> Построим сеть с двумя слоями LSTM для определения пола. Произведём обработку имён: каждое имя представим в виде бинарного вектора Х количество букв в алфавите х максимальная длина имени. Если первая буква имени а, то Х[1][1]=1, если вторая - b, то X[2][1]=1 и т.д. Вышеописанная обработка имён реализуется функцией preprocess_data, которая также производит обработку меток полов посредством one-hot кодирования."
   ]
  },
  {
   "cell_type": "code",
   "execution_count": 13,
   "metadata": {},
   "outputs": [],
   "source": [
    "def preprocess_data(data, dim1, dim2):\n",
    "    \"\"\"\n",
    "    функция производит обработку имён и меток пола для них\n",
    "    \"\"\"\n",
    "    namesToTransform = [] # список для хранения обработанных имён\n",
    "    labelesToTransform = [] # список для хранения обработанных меток полов\n",
    "    \n",
    "    char_indices = dict((ch, i) for i, ch in enumerate(ascii_lowercase)) # формируем словарь буква алфавита : её индекс\n",
    "    \n",
    "    for (name, gender) in data: # по каждому имени с меткой\n",
    "        x = np.zeros((dim1, dim2), dtype=int) # формируем исходный бинарный вектор\n",
    "        y = np.zeros((2, ), dtype=int) # формируем вектор для перекадированной метки пола\n",
    "        \n",
    "        for c in name: # по каждому символу в имени\n",
    "            if c not in ['-',' ', \"'\"]: # изменяем значения элементов в бинарном векторе в соответствии с идексами символов\n",
    "                x[char_indices[c.lower()]][0]=1\n",
    "        \n",
    "        namesToTransform.append(x) # добавляем бинарный вектор в список\n",
    "        \n",
    "        # кодируем метку пола: если пол женский [1 0], [0 1] - иначе\n",
    "        if gender=='female':\n",
    "            y[0]=1\n",
    "        else:\n",
    "            y[1]=1\n",
    "        labelesToTransform.append(y)  # добавляем закодированную метку в список  \n",
    "    \n",
    "    # приводим списки к типу ndarray\n",
    "    preprocessed_names = np.array(namesToTransform, dtype=int) \n",
    "    preprocessed_labeles = np.array(labelesToTransform, dtype=int)\n",
    "    \n",
    "    return preprocessed_names, preprocessed_labeles"
   ]
  },
  {
   "cell_type": "code",
   "execution_count": 14,
   "metadata": {},
   "outputs": [],
   "source": [
    "alphabet_len = len(ascii_lowercase) # длина алфавита\n",
    "max_len = len(max(female_names+male_names, key=len)) # максимальная длина имени\n",
    "\n",
    "# формируем тренировочные и тестовые наборы\n",
    "X_train, y_train = preprocess_data(train_data, alphabet_len, max_len)\n",
    "X_test, y_test = preprocess_data(test_data, alphabet_len, max_len)"
   ]
  },
  {
   "cell_type": "markdown",
   "metadata": {},
   "source": [
    "После формирования наборов сравним результаты классификаций, осуществляемых нейронными сетями с разным числом узлов на слоях и разных значениях дропаута по F-мере и аккуратности. Реализованная функция check_model формирует нейронную сеть с двумя слоями lstm, обучает её, делает предсказания и измеряет качество классификации при заданном количестве узлов на слоях сети и значении дропаута."
   ]
  },
  {
   "cell_type": "code",
   "execution_count": 15,
   "metadata": {},
   "outputs": [],
   "source": [
    "def check_model(neurons, dropout, X_train, y_train, X_test, y_test):\n",
    "    print('Checking model with %d neurons and %f dropout rate...' % (neurons, dropout))\n",
    "    \n",
    "    # создаём нейронную сеть\n",
    "    print('Building the model...') \n",
    "    model = Sequential()\n",
    "    model.add(LSTM(neurons, input_shape=(alphabet_len, max_len), return_sequences=True)) # первый lstm слой\n",
    "    model.add(Dropout(dropout))\n",
    "    model.add(LSTM(neurons, return_sequences=False)) # второй lstm слой\n",
    "    model.add(Dropout(dropout))\n",
    "    model.add(Dense(2))\n",
    "    model.add(Activation('softmax'))\n",
    "    \n",
    "    model.compile(loss='binary_crossentropy', optimizer='rmsprop', metrics=['accuracy', 'fmeasure'])\n",
    "    print('\\tModel built...')\n",
    "    \n",
    "    # обучаем модель\n",
    "    print('Training the model...')\n",
    "    model.fit(X_train, y_train, batch_size=32, nb_epoch=8, verbose=0)\n",
    "    print('\\tModel trained...')\n",
    "    \n",
    "    # делаем предсказания\n",
    "    print('Making predictions...')\n",
    "    predictions = model.predict(X_test, verbose=0)\n",
    "    pred_labels = []\n",
    "    for element in predictions: # метод predict возвращает вероятности. сделаем список меток пола 1 - женский 0 - мужской\n",
    "        if element[0] > element[1]:\n",
    "            pred_labels.append(1)\n",
    "        else:\n",
    "            pred_labels.append(0)\n",
    "    print('\\tPredictions made...')\n",
    "    \n",
    "    test_labels = [elem[0] for elem in y_test] # метки пола для тестовых данных\n",
    "    print('Evaluating classification results...') \n",
    "    print('\\tAccuracy:', accuracy_score(test_labels, pred_labels)) # измерение аккуратности\n",
    "    print('\\tF-score:', f1_score(test_labels, pred_labels)) # измерение f-меры"
   ]
  },
  {
   "cell_type": "markdown",
   "metadata": {},
   "source": [
    "Оценим качество классификации при 100 узлах на слоях сети и значении дропаута 0.1."
   ]
  },
  {
   "cell_type": "code",
   "execution_count": 16,
   "metadata": {},
   "outputs": [
    {
     "name": "stdout",
     "output_type": "stream",
     "text": [
      "Checking model with 100 neurons and 0.100000 dropout rate...\n",
      "Building the model...\n",
      "\tModel built...\n",
      "Training the model...\n",
      "\tModel trained...\n",
      "Making predictions...\n",
      "\tPredictions made...\n",
      "Evaluating classification results...\n",
      "\tAccuracy: 0.659027777778\n",
      "\tF-score: 0.766967252017\n",
      "Wall time: 2min 34s\n"
     ]
    }
   ],
   "source": [
    "%%time\n",
    "check_model(100, 0.1, X_train, y_train, X_test, y_test)"
   ]
  },
  {
   "cell_type": "markdown",
   "metadata": {},
   "source": [
    "Оценим качество классификации при 400 узлах на слоях сети и значении дропаута 0.9."
   ]
  },
  {
   "cell_type": "code",
   "execution_count": 17,
   "metadata": {},
   "outputs": [
    {
     "name": "stdout",
     "output_type": "stream",
     "text": [
      "Checking model with 400 neurons and 0.900000 dropout rate...\n",
      "Building the model...\n",
      "\tModel built...\n",
      "Training the model...\n",
      "\tModel trained...\n",
      "Making predictions...\n",
      "\tPredictions made...\n",
      "Evaluating classification results...\n",
      "\tAccuracy: 0.646527777778\n",
      "\tF-score: 0.785322648671\n",
      "Wall time: 16min 31s\n"
     ]
    }
   ],
   "source": [
    "%%time\n",
    "check_model(400, 0.9, X_train, y_train, X_test, y_test)"
   ]
  },
  {
   "cell_type": "markdown",
   "metadata": {},
   "source": [
    "Как можно заметить выше, при большом значении дропаута аккуратность классификации становится меньше, независимо от того, много ли узлов на слоях нейронной сети.\n",
    "\n",
    "Данная нейронная сеть часто ошибается в классификации мужских имён. Вероятно, это связано с тем, что в тренировочном наборе данных преобладают женские имена."
   ]
  },
  {
   "cell_type": "markdown",
   "metadata": {},
   "source": [
    "<b>4. </b>Сравните результаты классификации разными методами. Какой метод лучше и почему?"
   ]
  },
  {
   "cell_type": "markdown",
   "metadata": {},
   "source": [
    "Сравнивая результаты классификации, можно заметить, что наивный байесовский классификатор в данном случае лучше справляется с задачей классификации пола по имени, чем нейронная сеть. <br><br>Вероятно, наивный байесовский классификатор лучше, так как предположение о независимости н-грамм в имени логично: ведь, вероятно, верно, что зависимость между н-граммами имени довольно мала.\n",
    "Также данный алгоритм не требует большого количества данных для обучения, он прост в понимании и работе (проще в качестве признаков использовать предположительно независимые между собой н-граммы, чем представлять каждое имя в виде матрицы). Нейронная сеть же требует большое количество правильно предобработанных данных. Более того, очень важна архитектура сети и подбор гиперпараметров. Считаю, что можно улучшить качество работы сети, если более тщательно обработать данные перед обучением сети и настроить её параметры.<br><br>\n",
    "Также могу предположить другой вариант низкого качества работы нейронной сети: кривая установка библиотек tenserflow и keras на windows 10."
   ]
  }
 ],
 "metadata": {
  "kernelspec": {
   "display_name": "Python 3",
   "language": "python",
   "name": "python3"
  },
  "language_info": {
   "codemirror_mode": {
    "name": "ipython",
    "version": 3
   },
   "file_extension": ".py",
   "mimetype": "text/x-python",
   "name": "python",
   "nbconvert_exporter": "python",
   "pygments_lexer": "ipython3",
   "version": "3.6.2"
  }
 },
 "nbformat": 4,
 "nbformat_minor": 1
}
