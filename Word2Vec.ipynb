{
 "cells": [
  {
   "cell_type": "markdown",
   "metadata": {},
   "source": [
    "## Модель Word2vec.\n",
    "### Выполнил: Хорин М. А."
   ]
  },
  {
   "cell_type": "markdown",
   "metadata": {},
   "source": [
    "Перед обучением модели Word2vec необходимо найти коллекцию текстов для её обучения. Я использовал тексты, предложенные в ДЗ из https://www.kaggle.com/c/word2vec-nlp-tutorial/data. Тексты находятся в нескольких файлах формата .tsv и являются обзорами на фильмы из базы данных о кинематографе IMDB.<br>\n",
    "<br>Считаем данные из каждого файла, используя pandas, и соберем одну большую коллекцию отзывов."
   ]
  },
  {
   "cell_type": "code",
   "execution_count": 1,
   "metadata": {},
   "outputs": [
    {
     "name": "stdout",
     "output_type": "stream",
     "text": [
      "Всего обзоров: 100000\n"
     ]
    }
   ],
   "source": [
    "import pandas as pd\n",
    "import warnings\n",
    "warnings.filterwarnings('ignore')\n",
    "\n",
    "'''\n",
    "считываем данные из файлов с обзорами фильмов \n",
    "header=0 означает, что первая строка файла содержит заголовки\n",
    "delimeter=\\t означает, что разделителем в файлах является табуляция \\t\n",
    "quoting=3 означает игнорировать двойные кавычки при считывании файла\n",
    "'''\n",
    "df1 = pd.read_csv('unlabeledTrainData.tsv', delimiter='\\t', quoting=3, header=0)\n",
    "df2 = pd.read_csv('labeledTrainData.tsv', delimiter='\\t', quoting=3, header=0)\n",
    "df3 = pd.read_csv('testData.tsv', delimiter='\\t', quoting=3, header=0)\n",
    "\n",
    "df = df1.append(df2.append(df3)) # соединяем все обзоры вместе\n",
    "print('Всего обзоров:', df.shape[0])"
   ]
  },
  {
   "cell_type": "markdown",
   "metadata": {},
   "source": [
    "Как можно заметить выше, собрана довольно внушительная коллекция текстов, насчитывающая сто тысяч обзоров.<br><br>Взглянем на некоторые из них."
   ]
  },
  {
   "cell_type": "code",
   "execution_count": 2,
   "metadata": {},
   "outputs": [
    {
     "data": {
      "text/plain": [
       "['\"Watching Time Chasers, it obvious that it was made by a bunch of friends. Maybe they were sitting around one day in film school and said, \\\\\"Hey, let\\'s pool our money together and make a really bad movie!\\\\\" Or something like that. What ever they said, they still ended up making a really bad movie--dull story, bad script, lame acting, poor cinematography, bottom of the barrel stock music, etc. All corners were cut, except the one that would have prevented this film\\'s release. Life\\'s like that.\"',\n",
       " '\"I saw this film about 20 years ago and remember it as being particularly nasty. I believe it is based on a true incident: a young man breaks into a nurses\\' home and rapes, tortures and kills various women.<br /><br />It is in black and white but saves the colour for one shocking shot.<br /><br />At the end the film seems to be trying to make some political statement but it just comes across as confused and obscene.<br /><br />Avoid.\"']"
      ]
     },
     "execution_count": 2,
     "metadata": {},
     "output_type": "execute_result"
    }
   ],
   "source": [
    "collection = list(df.review.values)\n",
    "collection[:2]"
   ]
  },
  {
   "cell_type": "markdown",
   "metadata": {},
   "source": [
    "Как можно заметить, исходные текстовые данные малопригодны для обработки, поскольку содержат знаки пунктуации, символы кодировки, html теги и иной ненужный мусор, от которого необходимо избавиться.<br><br>\n",
    "Поскольку на вход модели word2vec необходимо подавать список предложений (другими словами, список списков), реализуем две функции. Функция make_sentences будет разбивать текст обзора на предложения по знакам пунктуации, используя токенизатор nltk, а также создавать список предложений обзора, очищенных от ненужного мусора второй функцией make_wordlist."
   ]
  },
  {
   "cell_type": "code",
   "execution_count": 3,
   "metadata": {
    "collapsed": true
   },
   "outputs": [],
   "source": [
    "from bs4 import BeautifulSoup\n",
    "import re\n",
    "\n",
    "\"\"\"\n",
    "функция очищает одно предложение обзора от мусора\n",
    "библиотека BeautifulSoup чистит текст от HTML тегов\n",
    "очистка от знаков пунктуации проводится регулярными выражениями\n",
    "\"\"\"\n",
    "def make_wordlist(sentence):\n",
    "    text = BeautifulSoup(sentence).get_text() # чистим текст от тегов HTML\n",
    "    text = re.sub(\"[^a-zA-Z]\",\" \", text) # чистим текст от знаков пунктуации\n",
    "    return text.lower().split() # вовзращаем текст предложения в виде списка слов в нижнем регистре"
   ]
  },
  {
   "cell_type": "code",
   "execution_count": 4,
   "metadata": {
    "collapsed": true
   },
   "outputs": [],
   "source": [
    "# инициируем токенизатор\n",
    "import nltk.data\n",
    "tokenizer = nltk.data.load('tokenizers/punkt/english.pickle')\n",
    "\n",
    "\"\"\"\n",
    "функция преобразует цельный текст обзора в список списков\n",
    "\"\"\"\n",
    "def make_sentences(review, tokenizer):\n",
    "    review_sentences = tokenizer.tokenize(review.strip()) # обрезаем текст обзора от пробелов в начале и конце,\n",
    "                                                          # получаем список предложений обзора\n",
    "    \n",
    "    sentences = [] # создаём переменную для хранения предложений обзора в виде списков слов\n",
    "    \n",
    "    # чистим и преобразуем каждое предложение обзора в список слов и добавляем в список sentences\n",
    "    for sentence in review_sentences:\n",
    "        if len(sentence) > 0: # проверка на пустое предложение\n",
    "            sentences.append(make_wordlist(sentence))\n",
    "    return sentences"
   ]
  },
  {
   "cell_type": "markdown",
   "metadata": {},
   "source": [
    "Создадим список предложений из нашей коллекции, используя две вышереализованные функции."
   ]
  },
  {
   "cell_type": "code",
   "execution_count": 5,
   "metadata": {
    "scrolled": true
   },
   "outputs": [
    {
     "name": "stdout",
     "output_type": "stream",
     "text": [
      "Wall time: 7min 21s\n"
     ]
    }
   ],
   "source": [
    "%%time\n",
    "w2v_data = []\n",
    "\n",
    "for review in collection:\n",
    "    w2v_data += make_sentences(review, tokenizer)"
   ]
  },
  {
   "cell_type": "code",
   "execution_count": 6,
   "metadata": {
    "scrolled": false
   },
   "outputs": [
    {
     "name": "stdout",
     "output_type": "stream",
     "text": [
      "[['watching', 'time', 'chasers', 'it', 'obvious', 'that', 'it', 'was', 'made', 'by', 'a', 'bunch', 'of', 'friends'], ['maybe', 'they', 'were', 'sitting', 'around', 'one', 'day', 'in', 'film', 'school', 'and', 'said', 'hey', 'let', 's', 'pool', 'our', 'money', 'together', 'and', 'make', 'a', 'really', 'bad', 'movie', 'or', 'something', 'like', 'that'], ['what', 'ever', 'they', 'said', 'they', 'still', 'ended', 'up', 'making', 'a', 'really', 'bad', 'movie', 'dull', 'story', 'bad', 'script', 'lame', 'acting', 'poor', 'cinematography', 'bottom', 'of', 'the', 'barrel', 'stock', 'music', 'etc']]\n"
     ]
    }
   ],
   "source": [
    "print(w2v_data[0:3])"
   ]
  },
  {
   "cell_type": "code",
   "execution_count": 7,
   "metadata": {},
   "outputs": [
    {
     "name": "stdout",
     "output_type": "stream",
     "text": [
      "Количество предложений: 1056938\n"
     ]
    }
   ],
   "source": [
    "print('Количество предложений:', len(w2v_data))"
   ]
  },
  {
   "cell_type": "markdown",
   "metadata": {},
   "source": [
    "Как можно заметить, теперь исходная коллекция текстов пригодна для того, чтобы обучать модель word2vec. Её размер составил более миллиона предложений, что довольно-таки неплохо.\n",
    "<br><br>\n",
    "<b>1.Обучим модель word2vec. Оценим время обучения модели,используя модуль time.</b><br><br>\n",
    "Word2vec повзоляет настраивать параметры, влияющие на качество модели. Изучив tutorial, рекомендуемый в документации к word2vec библиотеки gensim (https://rare-technologies.com/word2vec-tutorial/), мною были выбраны следующие значения параметров:\n",
    "* нейросетевая архитектура - CBOW;\n",
    "* workers - 4;\n",
    "* size - 300; \n",
    "* min_count - 20;\n",
    "* window (контекстное окно) - 5;\n",
    "* sample - 1e-3.<br><br>\n",
    "Остальные параметры по умолчанию."
   ]
  },
  {
   "cell_type": "code",
   "execution_count": 8,
   "metadata": {},
   "outputs": [
    {
     "name": "stdout",
     "output_type": "stream",
     "text": [
      "Время обучения, сек: 206.86\n"
     ]
    }
   ],
   "source": [
    "from gensim.models import word2vec\n",
    "import time\n",
    "\n",
    "beginning = time.clock() # засекаем начало обучения\n",
    "\n",
    "model = word2vec.Word2Vec(w2v_data, workers=4, min_count=20, size=300, window=5, sample=1e-3) # обучаем модель\n",
    "\n",
    "print('Время обучения, сек:', round(time.clock()-beginning, 2))"
   ]
  },
  {
   "cell_type": "markdown",
   "metadata": {},
   "source": [
    "<b>2. Приведём 5-10 примеров использования .most_similar для определения близких слов.</b>"
   ]
  },
  {
   "cell_type": "code",
   "execution_count": 9,
   "metadata": {},
   "outputs": [
    {
     "data": {
      "text/plain": [
       "[('neat', 0.6948410272598267),\n",
       " ('cool', 0.6063452959060669),\n",
       " ('good', 0.6040568351745605),\n",
       " ('pleasant', 0.5974904298782349),\n",
       " ('refreshing', 0.5724823474884033)]"
      ]
     },
     "execution_count": 9,
     "metadata": {},
     "output_type": "execute_result"
    }
   ],
   "source": [
    "model.most_similar('nice', topn=5)"
   ]
  },
  {
   "cell_type": "code",
   "execution_count": 10,
   "metadata": {},
   "outputs": [
    {
     "data": {
      "text/plain": [
       "[('actress', 0.6907398700714111),\n",
       " ('performer', 0.6144192218780518),\n",
       " ('comedian', 0.6075437068939209),\n",
       " ('actors', 0.5465003848075867),\n",
       " ('role', 0.5140215754508972)]"
      ]
     },
     "execution_count": 10,
     "metadata": {},
     "output_type": "execute_result"
    }
   ],
   "source": [
    "model.most_similar('actor', topn=5)"
   ]
  },
  {
   "cell_type": "code",
   "execution_count": 11,
   "metadata": {},
   "outputs": [
    {
     "data": {
      "text/plain": [
       "[('terrible', 0.7992217540740967),\n",
       " ('atrocious', 0.7668658494949341),\n",
       " ('horrible', 0.7535910606384277),\n",
       " ('dreadful', 0.7530136704444885),\n",
       " ('abysmal', 0.7430434226989746)]"
      ]
     },
     "execution_count": 11,
     "metadata": {},
     "output_type": "execute_result"
    }
   ],
   "source": [
    "model.most_similar('awful', topn=5)"
   ]
  },
  {
   "cell_type": "code",
   "execution_count": 12,
   "metadata": {},
   "outputs": [
    {
     "data": {
      "text/plain": [
       "[('movie', 0.9037315845489502),\n",
       " ('flick', 0.6656942367553711),\n",
       " ('documentary', 0.6437262892723083),\n",
       " ('picture', 0.6157901287078857),\n",
       " ('films', 0.5460703372955322)]"
      ]
     },
     "execution_count": 12,
     "metadata": {},
     "output_type": "execute_result"
    }
   ],
   "source": [
    "model.most_similar('film', topn=5)"
   ]
  },
  {
   "cell_type": "code",
   "execution_count": 13,
   "metadata": {},
   "outputs": [
    {
     "data": {
      "text/plain": [
       "[('football', 0.8191125988960266),\n",
       " ('basketball', 0.7687404155731201),\n",
       " ('poker', 0.7153268456459045),\n",
       " ('baseball', 0.6736490726470947),\n",
       " ('tennis', 0.6441650390625)]"
      ]
     },
     "execution_count": 13,
     "metadata": {},
     "output_type": "execute_result"
    }
   ],
   "source": [
    "model.most_similar('soccer', topn=5)"
   ]
  },
  {
   "cell_type": "code",
   "execution_count": 15,
   "metadata": {},
   "outputs": [
    {
     "data": {
      "text/plain": [
       "[('frustration', 0.8575396537780762),\n",
       " ('despair', 0.7271488308906555),\n",
       " ('sadness', 0.7240976691246033),\n",
       " ('bitterness', 0.7201728224754333),\n",
       " ('anguish', 0.6986355185508728)]"
      ]
     },
     "execution_count": 15,
     "metadata": {},
     "output_type": "execute_result"
    }
   ],
   "source": [
    "model.most_similar('anger', topn=5)"
   ]
  },
  {
   "cell_type": "markdown",
   "metadata": {},
   "source": [
    "Как можно заметить, всего для определения близости слов были использованы 6 примеров. В итоге, модель правильно и довольно качественно находит слова близкие по значению к исходным. В большинстве случаев найденные слова не являются синонимами исходных, но могут употребляться как их слова-заменители или использоваться в похожей области упортребления. Тем не менее, многие из найденных слов семантически близки к используемым 7 примерам, некоторые из них также являются синонимами исходных слов.<br><br>\n",
    "Таким образом, для данного небольшого корпуса текстов модель работает на довольно высоком уровне. Работу модели можно улучшить, добавив больше текстов для обучения и произведя более тщательную настройку параметров."
   ]
  },
  {
   "cell_type": "markdown",
   "metadata": {},
   "source": [
    "<b>3. Приведём 5-10 примеров использования .most_similar для определения ассоциаций (А к Б, как В к ?). </b>"
   ]
  },
  {
   "cell_type": "code",
   "execution_count": 16,
   "metadata": {},
   "outputs": [
    {
     "data": {
      "text/plain": [
       "[('girl', 0.7545726299285889),\n",
       " ('lad', 0.5541477203369141),\n",
       " ('prostitute', 0.5534797310829163)]"
      ]
     },
     "execution_count": 16,
     "metadata": {},
     "output_type": "execute_result"
    }
   ],
   "source": [
    "model.most_similar(['boy', 'woman'], ['man'], 3)"
   ]
  },
  {
   "cell_type": "markdown",
   "metadata": {},
   "source": [
    "Ассоциация определена верно, так как \"man\" к \"boy\", как \"woman\" к \"girl\"."
   ]
  },
  {
   "cell_type": "code",
   "execution_count": 17,
   "metadata": {},
   "outputs": [
    {
     "data": {
      "text/plain": [
       "[('worse', 0.6495989561080933),\n",
       " ('funnier', 0.5254871249198914),\n",
       " ('cheaper', 0.4639887809753418)]"
      ]
     },
     "execution_count": 17,
     "metadata": {},
     "output_type": "execute_result"
    }
   ],
   "source": [
    "model.most_similar(['better', 'bad'], ['good'], 3)"
   ]
  },
  {
   "cell_type": "markdown",
   "metadata": {},
   "source": [
    "Ассоциация определена верно, так как \"good\" к \"better\", как \"bad\" к \"worse\"."
   ]
  },
  {
   "cell_type": "code",
   "execution_count": 18,
   "metadata": {},
   "outputs": [
    {
     "data": {
      "text/plain": [
       "[('son', 0.7639557123184204),\n",
       " ('niece', 0.7021713256835938),\n",
       " ('grandson', 0.6820499897003174)]"
      ]
     },
     "execution_count": 18,
     "metadata": {},
     "output_type": "execute_result"
    }
   ],
   "source": [
    "model.most_similar(['daughter', 'father'], ['mother'], 3)"
   ]
  },
  {
   "cell_type": "markdown",
   "metadata": {},
   "source": [
    "Ассоциация определена верно, так как \"mother\" к \"daughter\", как \"father\" к \"son\"."
   ]
  },
  {
   "cell_type": "code",
   "execution_count": 19,
   "metadata": {},
   "outputs": [
    {
     "data": {
      "text/plain": [
       "[('actress', 0.7081006765365601),\n",
       " ('performer', 0.5143195390701294),\n",
       " ('dancer', 0.45161423087120056)]"
      ]
     },
     "execution_count": 19,
     "metadata": {},
     "output_type": "execute_result"
    }
   ],
   "source": [
    "model.most_similar(['actor', 'woman'], ['man'], 3)"
   ]
  },
  {
   "cell_type": "markdown",
   "metadata": {},
   "source": [
    "Ассоциация определена верно, так как \"man\" к \"actor\", как \"woman\" к \"actress\"."
   ]
  },
  {
   "cell_type": "code",
   "execution_count": 20,
   "metadata": {},
   "outputs": [
    {
     "data": {
      "text/plain": [
       "[('artist', 0.5958595871925354),\n",
       " ('painter', 0.550783634185791),\n",
       " ('visionary', 0.5077059268951416)]"
      ]
     },
     "execution_count": 20,
     "metadata": {},
     "output_type": "execute_result"
    }
   ],
   "source": [
    "model.most_similar(['musician', 'art'], ['music'], 3)"
   ]
  },
  {
   "cell_type": "markdown",
   "metadata": {},
   "source": [
    "Ассоциация определена верно, так как \"music\" к \"musician\", как \"art\" к \"artist\".<br><br>\n",
    "Таким образом, используемая модель корректно находит ассоциации между словами. Тем не менее, лишь первые слова из .most_similar являются верными для ассоциаций. Посмотрим, насколько качественно модель определяет лишние слова."
   ]
  },
  {
   "cell_type": "markdown",
   "metadata": {},
   "source": [
    "<b>4. Приведем 5-10 примеров использования .doesnt_match для определения лишнего слова.</b>"
   ]
  },
  {
   "cell_type": "code",
   "execution_count": 21,
   "metadata": {},
   "outputs": [
    {
     "data": {
      "text/plain": [
       "'london'"
      ]
     },
     "execution_count": 21,
     "metadata": {},
     "output_type": "execute_result"
    }
   ],
   "source": [
    "model.doesnt_match('china russia spain italy london'.split())"
   ]
  },
  {
   "cell_type": "markdown",
   "metadata": {},
   "source": [
    "Лишнее слово определено верно, так как london является городом, а не страной."
   ]
  },
  {
   "cell_type": "code",
   "execution_count": 22,
   "metadata": {},
   "outputs": [
    {
     "data": {
      "text/plain": [
       "'hour'"
      ]
     },
     "execution_count": 22,
     "metadata": {},
     "output_type": "execute_result"
    }
   ],
   "source": [
    "model.doesnt_match('day month year hour'.split())"
   ]
  },
  {
   "cell_type": "markdown",
   "metadata": {},
   "source": [
    "Лишнее слово определено верно, так как hour не является элементом даты, в отличие от day, month и year."
   ]
  },
  {
   "cell_type": "code",
   "execution_count": 28,
   "metadata": {},
   "outputs": [
    {
     "data": {
      "text/plain": [
       "'fish'"
      ]
     },
     "execution_count": 28,
     "metadata": {},
     "output_type": "execute_result"
    }
   ],
   "source": [
    "model.doesnt_match('monkey tiger wolf fish'.split())"
   ]
  },
  {
   "cell_type": "markdown",
   "metadata": {},
   "source": [
    "Лишнее слово определено верно, так как fish не является млекопитающим."
   ]
  },
  {
   "cell_type": "code",
   "execution_count": 29,
   "metadata": {},
   "outputs": [
    {
     "data": {
      "text/plain": [
       "'mary'"
      ]
     },
     "execution_count": 29,
     "metadata": {},
     "output_type": "execute_result"
    }
   ],
   "source": [
    "model.doesnt_match('bob tommy alan mike mary'.split())"
   ]
  },
  {
   "cell_type": "markdown",
   "metadata": {},
   "source": [
    "Лишнее слово определено верно, так как mary не является мужским именем."
   ]
  },
  {
   "cell_type": "code",
   "execution_count": 30,
   "metadata": {},
   "outputs": [
    {
     "data": {
      "text/plain": [
       "'love'"
      ]
     },
     "execution_count": 30,
     "metadata": {},
     "output_type": "execute_result"
    }
   ],
   "source": [
    "model.doesnt_match('weapon bullets fire love'.split())"
   ]
  },
  {
   "cell_type": "markdown",
   "metadata": {},
   "source": [
    "Лишнее слово определено верно, так как love не имеет отношения к понятиям, связанным с войной."
   ]
  },
  {
   "cell_type": "code",
   "execution_count": 31,
   "metadata": {},
   "outputs": [
    {
     "data": {
      "text/plain": [
       "'science'"
      ]
     },
     "execution_count": 31,
     "metadata": {},
     "output_type": "execute_result"
    }
   ],
   "source": [
    "model.doesnt_match('art literature cinema science'.split())"
   ]
  },
  {
   "cell_type": "markdown",
   "metadata": {},
   "source": [
    "Лишнее слово определено верно, так как science не является видом искусства.<br><br>\n",
    "Таким образом,  во всех рассмотренных 6 примерах модель корректно нашла лишние слова, что означает верную настройку параметров и довольно высокое качество модели."
   ]
  },
  {
   "cell_type": "markdown",
   "metadata": {},
   "source": [
    "<b>5. Попробуем найти такие пары и тройки слов для которых:</b>\n",
    "* <b>не выполняются свойства коммутативности и транзитивности относительно операции определения близких слов. </b>\n",
    "\n",
    "Коммутативность означает, что если слово X входит в топ 3 по .most_similar для слова Y, то слово Y также входит в топ три по .most_similar для слова X.<br><br>\n",
    "Транзитивность означает, что если слово X входит в топ 3 по .most_similar для слова Y, а слово Y входит в топ три по .most_similar для слова Z, то слово X входит в топ 3 по .most_similar для слова Z.<br><br>\n",
    "Начнем с проверки коммутативности для пар слов.<br> Первая пара:"
   ]
  },
  {
   "cell_type": "code",
   "execution_count": 32,
   "metadata": {},
   "outputs": [
    {
     "data": {
      "text/plain": [
       "[('woman', 0.6300959587097168),\n",
       " ('lad', 0.6169289946556091),\n",
       " ('lady', 0.5826666355133057)]"
      ]
     },
     "execution_count": 32,
     "metadata": {},
     "output_type": "execute_result"
    }
   ],
   "source": [
    "model.most_similar('man', topn=3)"
   ]
  },
  {
   "cell_type": "markdown",
   "metadata": {},
   "source": [
    "woman входит в топ 3 по .most_similar для man. Посмотрим, выполняется ли обратное."
   ]
  },
  {
   "cell_type": "code",
   "execution_count": 33,
   "metadata": {},
   "outputs": [
    {
     "data": {
      "text/plain": [
       "[('prostitute', 0.6766529083251953),\n",
       " ('girl', 0.6726246476173401),\n",
       " ('lady', 0.6719728708267212)]"
      ]
     },
     "execution_count": 33,
     "metadata": {},
     "output_type": "execute_result"
    }
   ],
   "source": [
    "model.most_similar('woman', topn=3)"
   ]
  },
  {
   "cell_type": "markdown",
   "metadata": {},
   "source": [
    "Как можно заметить, обратное не выполняется. Следовательно, свойство коммутативности для пары (woman, man) не выполняется.<br><br>Вторая пара:"
   ]
  },
  {
   "cell_type": "code",
   "execution_count": 34,
   "metadata": {},
   "outputs": [
    {
     "data": {
      "text/plain": [
       "[('france', 0.6665081977844238),\n",
       " ('thailand', 0.6633102297782898),\n",
       " ('london', 0.6543998122215271)]"
      ]
     },
     "execution_count": 34,
     "metadata": {},
     "output_type": "execute_result"
    }
   ],
   "source": [
    "model.most_similar('paris', topn=3)"
   ]
  },
  {
   "cell_type": "markdown",
   "metadata": {},
   "source": [
    "france входит в топ 3 по .most_similar для paris. Посмотрим, выполняется ли обратное."
   ]
  },
  {
   "cell_type": "code",
   "execution_count": 35,
   "metadata": {},
   "outputs": [
    {
     "data": {
      "text/plain": [
       "[('spain', 0.834465742111206),\n",
       " ('italy', 0.8278445601463318),\n",
       " ('germany', 0.8073477745056152)]"
      ]
     },
     "execution_count": 35,
     "metadata": {},
     "output_type": "execute_result"
    }
   ],
   "source": [
    "model.most_similar('france', topn=3)"
   ]
  },
  {
   "cell_type": "markdown",
   "metadata": {},
   "source": [
    "Как можно заметить, обратное не выполняется. Следовательно, свойство коммутативности для пары (france, paris) не выполняется.<br><br>Третья пара:"
   ]
  },
  {
   "cell_type": "code",
   "execution_count": 36,
   "metadata": {},
   "outputs": [
    {
     "data": {
      "text/plain": [
       "[('actress', 0.6907398700714111),\n",
       " ('performer', 0.6144192218780518),\n",
       " ('comedian', 0.6075437068939209)]"
      ]
     },
     "execution_count": 36,
     "metadata": {},
     "output_type": "execute_result"
    }
   ],
   "source": [
    "model.most_similar('actor', topn=3)"
   ]
  },
  {
   "cell_type": "markdown",
   "metadata": {},
   "source": [
    "performer входит в топ 3 по .most_similar для actor. Посмотрим, выполняется ли обратное."
   ]
  },
  {
   "cell_type": "code",
   "execution_count": 37,
   "metadata": {},
   "outputs": [
    {
     "data": {
      "text/plain": [
       "[('dancer', 0.7036668658256531),\n",
       " ('comedienne', 0.695297122001648),\n",
       " ('pianist', 0.6823179721832275)]"
      ]
     },
     "execution_count": 37,
     "metadata": {},
     "output_type": "execute_result"
    }
   ],
   "source": [
    "model.most_similar('performer', topn=3)"
   ]
  },
  {
   "cell_type": "markdown",
   "metadata": {},
   "source": [
    "Как можно заметить, обратное не выполняется. Следовательно, свойство коммутативности для пары (performer, actor) не выполняется.<br><br>\n",
    "Проверим свойство транзитивности для троек слов.<br> Первая тройка:"
   ]
  },
  {
   "cell_type": "code",
   "execution_count": 38,
   "metadata": {},
   "outputs": [
    {
     "data": {
      "text/plain": [
       "[('prostitute', 0.6766529083251953),\n",
       " ('girl', 0.6726246476173401),\n",
       " ('lady', 0.6719728708267212)]"
      ]
     },
     "execution_count": 38,
     "metadata": {},
     "output_type": "execute_result"
    }
   ],
   "source": [
    "model.most_similar('woman', topn=3)"
   ]
  },
  {
   "cell_type": "code",
   "execution_count": 39,
   "metadata": {},
   "outputs": [
    {
     "data": {
      "text/plain": [
       "[('woman', 0.6719728708267212),\n",
       " ('maid', 0.643402636051178),\n",
       " ('widow', 0.6131343841552734)]"
      ]
     },
     "execution_count": 39,
     "metadata": {},
     "output_type": "execute_result"
    }
   ],
   "source": [
    "model.most_similar('lady', topn=3)"
   ]
  },
  {
   "cell_type": "markdown",
   "metadata": {},
   "source": [
    "girl входит в топ 3 по .most_similar для woman, woman входит в топ 3 по .most_similar для lady, однако girl не входит в топ 3 по .most_similar для lady. Следовательно, для тройки (girl, woman, lady) свойство транзитивности не выполняется.<br><br>\n",
    "Вторая тройка:"
   ]
  },
  {
   "cell_type": "code",
   "execution_count": 42,
   "metadata": {},
   "outputs": [
    {
     "data": {
      "text/plain": [
       "[('spain', 0.8311604857444763),\n",
       " ('greece', 0.8245682120323181),\n",
       " ('italy', 0.7992098927497864)]"
      ]
     },
     "execution_count": 42,
     "metadata": {},
     "output_type": "execute_result"
    }
   ],
   "source": [
    "model.most_similar('poland', topn=3)"
   ]
  },
  {
   "cell_type": "code",
   "execution_count": 43,
   "metadata": {},
   "outputs": [
    {
     "data": {
      "text/plain": [
       "[('spain', 0.849463939666748),\n",
       " ('france', 0.8278445601463318),\n",
       " ('poland', 0.7992098927497864)]"
      ]
     },
     "execution_count": 43,
     "metadata": {},
     "output_type": "execute_result"
    }
   ],
   "source": [
    "model.most_similar('italy', topn=3)"
   ]
  },
  {
   "cell_type": "markdown",
   "metadata": {},
   "source": [
    "greece входит в топ 3 по .most_similar для poland, poland входит в топ 3 по .most_similar для italy, однако greece не входит в топ 3 по .most_similar для italy. Следовательно, для тройки (greece, poland, italy) свойство транзитивности не выполняется.<br><br>\n",
    "Третья тройка:"
   ]
  },
  {
   "cell_type": "code",
   "execution_count": 44,
   "metadata": {},
   "outputs": [
    {
     "data": {
      "text/plain": [
       "[('film', 0.903731644153595),\n",
       " ('flick', 0.735821008682251),\n",
       " ('it', 0.5866470336914062)]"
      ]
     },
     "execution_count": 44,
     "metadata": {},
     "output_type": "execute_result"
    }
   ],
   "source": [
    "model.most_similar('movie', topn=3)"
   ]
  },
  {
   "cell_type": "code",
   "execution_count": 45,
   "metadata": {},
   "outputs": [
    {
     "data": {
      "text/plain": [
       "[('film', 0.6157901883125305),\n",
       " ('movie', 0.5819380879402161),\n",
       " ('pictures', 0.5416737794876099)]"
      ]
     },
     "execution_count": 45,
     "metadata": {},
     "output_type": "execute_result"
    }
   ],
   "source": [
    "model.most_similar('picture', topn=3)"
   ]
  },
  {
   "cell_type": "markdown",
   "metadata": {},
   "source": [
    "flick входит в топ 3 по .most_similar для movie, movie входит в топ 3 по .most_similar для picture, однако flick не входит в топ 3 по .most_similar для picture. Следовательно, для тройки (flick, movie, picture) свойство транзитивности не выполняется."
   ]
  },
  {
   "cell_type": "markdown",
   "metadata": {},
   "source": [
    "* <b>выполняются свойства коммутативности и транзитивности относительно операции определения близких слов.<b>\n",
    "\n",
    "Начнем с проверки <i>коммутативности</i> для пар слов.<br> <i>Первая пара:"
   ]
  },
  {
   "cell_type": "code",
   "execution_count": 46,
   "metadata": {},
   "outputs": [
    {
     "data": {
      "text/plain": [
       "[('film', 0.903731644153595),\n",
       " ('flick', 0.735821008682251),\n",
       " ('it', 0.5866470336914062)]"
      ]
     },
     "execution_count": 46,
     "metadata": {},
     "output_type": "execute_result"
    }
   ],
   "source": [
    "model.most_similar('movie', topn=3)"
   ]
  },
  {
   "cell_type": "markdown",
   "metadata": {},
   "source": [
    "film входит в топ 3 по .most_similar для movie. Посмотрим, выполняется ли обратное."
   ]
  },
  {
   "cell_type": "code",
   "execution_count": 47,
   "metadata": {},
   "outputs": [
    {
     "data": {
      "text/plain": [
       "[('movie', 0.9037315845489502),\n",
       " ('flick', 0.6656942367553711),\n",
       " ('documentary', 0.6437262892723083)]"
      ]
     },
     "execution_count": 47,
     "metadata": {},
     "output_type": "execute_result"
    }
   ],
   "source": [
    "model.most_similar('film', topn=3)"
   ]
  },
  {
   "cell_type": "markdown",
   "metadata": {},
   "source": [
    "Как можно заметить, обратное выполняется. Следовательно, свойство коммутативности для пары (film, movie) выполняется.<br><br><i>Вторая пара:"
   ]
  },
  {
   "cell_type": "code",
   "execution_count": 48,
   "metadata": {},
   "outputs": [
    {
     "data": {
      "text/plain": [
       "[('male', 0.7954157590866089),\n",
       " ('chauvinist', 0.6137508153915405),\n",
       " ('heterosexual', 0.5550321340560913)]"
      ]
     },
     "execution_count": 48,
     "metadata": {},
     "output_type": "execute_result"
    }
   ],
   "source": [
    "model.most_similar('female', topn=3)"
   ]
  },
  {
   "cell_type": "markdown",
   "metadata": {},
   "source": [
    "male входит в топ 3 по .most_similar для female. Посмотрим, выполняется ли обратное."
   ]
  },
  {
   "cell_type": "code",
   "execution_count": 49,
   "metadata": {},
   "outputs": [
    {
     "data": {
      "text/plain": [
       "[('female', 0.7954157590866089),\n",
       " ('heterosexual', 0.6558157801628113),\n",
       " ('chauvinist', 0.6060659289360046)]"
      ]
     },
     "execution_count": 49,
     "metadata": {},
     "output_type": "execute_result"
    }
   ],
   "source": [
    "model.most_similar('male', topn=3)"
   ]
  },
  {
   "cell_type": "markdown",
   "metadata": {},
   "source": [
    "Как можно заметить, обратное выполняется. Следовательно, свойство коммутативности для пары (male, female) выполняется.<br><br><i>Третья пара:"
   ]
  },
  {
   "cell_type": "code",
   "execution_count": 50,
   "metadata": {},
   "outputs": [
    {
     "data": {
      "text/plain": [
       "[('actor', 0.6907398700714111),\n",
       " ('performer', 0.6499398946762085),\n",
       " ('comedienne', 0.6012341976165771)]"
      ]
     },
     "execution_count": 50,
     "metadata": {},
     "output_type": "execute_result"
    }
   ],
   "source": [
    "model.most_similar('actress', topn=3)"
   ]
  },
  {
   "cell_type": "markdown",
   "metadata": {},
   "source": [
    "actor входит в топ 3 по .most_similar для actress. Посмотрим, выполняется ли обратное."
   ]
  },
  {
   "cell_type": "code",
   "execution_count": 51,
   "metadata": {},
   "outputs": [
    {
     "data": {
      "text/plain": [
       "[('actress', 0.6907398700714111),\n",
       " ('performer', 0.6144192218780518),\n",
       " ('comedian', 0.6075437068939209)]"
      ]
     },
     "execution_count": 51,
     "metadata": {},
     "output_type": "execute_result"
    }
   ],
   "source": [
    "model.most_similar('actor', topn=3)"
   ]
  },
  {
   "cell_type": "markdown",
   "metadata": {},
   "source": [
    "Как можно заметить, обратное выполняется. Следовательно, свойство коммутативности для пары (actor, actress) выполняется.<br><br>\n",
    "Проверим свойство <i>транзитивности</i> для троек слов.<br> <i>Первая тройка:"
   ]
  },
  {
   "cell_type": "code",
   "execution_count": 52,
   "metadata": {},
   "outputs": [
    {
     "data": {
      "text/plain": [
       "[('movie', 0.9037315845489502),\n",
       " ('flick', 0.6656942367553711),\n",
       " ('documentary', 0.6437262892723083)]"
      ]
     },
     "execution_count": 52,
     "metadata": {},
     "output_type": "execute_result"
    }
   ],
   "source": [
    "model.most_similar('film', topn=3)"
   ]
  },
  {
   "cell_type": "code",
   "execution_count": 53,
   "metadata": {},
   "outputs": [
    {
     "data": {
      "text/plain": [
       "[('film', 0.6437263488769531),\n",
       " ('movie', 0.5828584432601929),\n",
       " ('biopic', 0.5619769096374512)]"
      ]
     },
     "execution_count": 53,
     "metadata": {},
     "output_type": "execute_result"
    }
   ],
   "source": [
    "model.most_similar('documentary', topn=3)"
   ]
  },
  {
   "cell_type": "markdown",
   "metadata": {},
   "source": [
    "movie входит в топ 3 по .most_similar для film, film входит в топ 3 по .most_similar для documentary, movie также входит в топ 3 по .most_similar для documentary. Следовательно, для тройки (movie, film, documentary) свойство транзитивности выполняется.<br><br>\n",
    "<i>Вторая тройка:"
   ]
  },
  {
   "cell_type": "code",
   "execution_count": 78,
   "metadata": {},
   "outputs": [
    {
     "data": {
      "text/plain": [
       "[('actress', 0.6907398700714111),\n",
       " ('performer', 0.6144192218780518),\n",
       " ('comedian', 0.6075437068939209)]"
      ]
     },
     "execution_count": 78,
     "metadata": {},
     "output_type": "execute_result"
    }
   ],
   "source": [
    "model.most_similar('actor', topn=3)"
   ]
  },
  {
   "cell_type": "code",
   "execution_count": 79,
   "metadata": {},
   "outputs": [
    {
     "data": {
      "text/plain": [
       "[('performer', 0.6665052771568298),\n",
       " ('rowan', 0.6112197637557983),\n",
       " ('actor', 0.6075436472892761)]"
      ]
     },
     "execution_count": 79,
     "metadata": {},
     "output_type": "execute_result"
    }
   ],
   "source": [
    "model.most_similar('comedian', topn=3)"
   ]
  },
  {
   "cell_type": "markdown",
   "metadata": {},
   "source": [
    "performer входит в топ 3 по .most_similar для actor, actor входит в топ 3 по .most_similar для comedian, performer также входит в топ 3 по .most_similar для comedian. Следовательно, для тройки (performer, actor, comedian) свойство транзитивности выполняется.<br><br>\n",
    "<i>Третья тройка:"
   ]
  },
  {
   "cell_type": "code",
   "execution_count": 81,
   "metadata": {},
   "outputs": [
    {
     "data": {
      "text/plain": [
       "[('italy', 0.849463939666748),\n",
       " ('france', 0.834465742111206),\n",
       " ('poland', 0.8311604261398315)]"
      ]
     },
     "execution_count": 81,
     "metadata": {},
     "output_type": "execute_result"
    }
   ],
   "source": [
    "model.most_similar('spain', topn=3)"
   ]
  },
  {
   "cell_type": "code",
   "execution_count": 208,
   "metadata": {},
   "outputs": [
    {
     "data": {
      "text/plain": [
       "[('spain', 0.8480809926986694),\n",
       " ('france', 0.8153465986251831),\n",
       " ('germany', 0.8083160519599915)]"
      ]
     },
     "execution_count": 208,
     "metadata": {},
     "output_type": "execute_result"
    }
   ],
   "source": [
    "model.most_similar('italy', topn=3)"
   ]
  },
  {
   "cell_type": "markdown",
   "metadata": {},
   "source": [
    "france входит в топ 3 по .most_similar для spain, spain входит в топ 3 по .most_similar для italy, france также входит в топ 3 по .most_similar для italy. Следовательно, для тройки (france, spain, italy) свойство транзитивности выполняется."
   ]
  },
  {
   "cell_type": "markdown",
   "metadata": {},
   "source": [
    "#### Вывод: \n",
    "Таким образом, word2vec представляет из себя мощный инструмент для расчёта векторных представлений слов и анализа семантики естественных языков. Собрав достаточно большую коллекцию текстов и предварительно её обработав, а также подобрав оптимальные параметры, удалось обучить модель word2vec довольно высокого качества. Использование обученной модели позволяет корректно определять семантически близкие слова, правильно находить ассоциации между словами, определять лишние слова в контексте. Также удалось найти пары и тройки слов, для которых как выполняются, так и не выполняются свойства коммутативности и транзитивности."
   ]
  }
 ],
 "metadata": {
  "kernelspec": {
   "display_name": "Python 3",
   "language": "python",
   "name": "python3"
  },
  "language_info": {
   "codemirror_mode": {
    "name": "ipython",
    "version": 3
   },
   "file_extension": ".py",
   "mimetype": "text/x-python",
   "name": "python",
   "nbconvert_exporter": "python",
   "pygments_lexer": "ipython3",
   "version": "3.6.2"
  }
 },
 "nbformat": 4,
 "nbformat_minor": 1
}
